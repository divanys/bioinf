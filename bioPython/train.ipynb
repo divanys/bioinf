{
 "cells": [
  {
   "cell_type": "code",
   "execution_count": 3,
   "metadata": {
    "collapsed": true,
    "ExecuteTime": {
     "end_time": "2023-09-18T15:17:05.738319868Z",
     "start_time": "2023-09-18T15:17:05.692048113Z"
    }
   },
   "outputs": [
    {
     "name": "stdout",
     "output_type": "stream",
     "text": [
      "        Gene Non-unique Gene name            Annotation        MGYG000304142  \\\n",
      "0  group_419                  NaN  hypothetical protein  MGYG000304142_00583   \n",
      "1  group_418                  NaN  hypothetical protein  MGYG000304142_00581   \n",
      "2  group_417                  NaN  hypothetical protein  MGYG000304142_00667   \n",
      "3  group_416                  NaN  hypothetical protein  MGYG000304142_00653   \n",
      "4  group_415                  NaN  hypothetical protein  MGYG000304142_00580   \n",
      "\n",
      "         MGYG000303700  \n",
      "0  MGYG000303700_00027  \n",
      "1  MGYG000303700_00542  \n",
      "2  MGYG000303700_00620  \n",
      "3  MGYG000303700_00015  \n",
      "4  MGYG000303700_00541  \n"
     ]
    }
   ],
   "source": [
    "import pandas as pd\n",
    "\n",
    "# Замените 'path_to_your_csv_file.csv' на путь к вашему CSV-файлу\n",
    "df = pd.read_csv('gene_presence_absence.csv')\n",
    "\n",
    "# Выведите первые несколько строк, чтобы убедиться, что данные загрузились правильно\n",
    "print(df.head())"
   ]
  },
  {
   "cell_type": "code",
   "execution_count": 4,
   "outputs": [
    {
     "name": "stdout",
     "output_type": "stream",
     "text": [
      "Идентификатор: mraZ\n",
      "Описание: mraZ\n",
      "Длина: 366\n",
      "Последовательность: ATGAGCAAAGTTGATTACTTCGAACGCAAGCTAGACGACAAACATCGTCTGACCATCCCAGTAGAATTACGGGGTGAATTTGCGAACGGTGTAGTCATCACCCGCGGCTTTGGTAAGTACTTGCATCTCTATGCGAAGGAGGTTTGGGATAATGAAATGGAATCTGCATTGCAGGGCAACATCTTGGATGAACACATCGCCGACCTAAACGTCAAGTTTCGGGCTGGCAAGTCAGAGGCTGAGATGGACGCCAAGCAGGGGCGGATTACCATTGAACAACACCTACTTGATTACGCCAAGATTGACCGCGACGTGGTCGCCATCCGAGCGGGCAAGTATTGGCGGTTGACTGCGCAAGCAGATTAA\n",
      "MSKVDYFERKLDDKHRLTIPVELRGEFANGVVITRGFGKYLHLYAKEVWDNEMESALQGNILDEHIADLNVKFRAGKSEAEMDAKQGRITIEQHLLDYAKIDRDVVAIRAGKYWRLTAQAD*\n"
     ]
    }
   ],
   "source": [
    "from Bio import SeqIO\n",
    "\n",
    "file_path = 'pan-genome.fna'\n",
    "\n",
    "# создание объекта SeqRecord\n",
    "records = SeqIO.parse(file_path, 'fasta')\n",
    "\n",
    "# выведите первую последовательность\n",
    "first_record = next(records)\n",
    "print(f'Идентификатор: {first_record.id}')\n",
    "print(f'Описание: {first_record.description}')\n",
    "print(f'Длина: {len(first_record.seq)}')\n",
    "print(f'Последовательность: {first_record.seq}')\n",
    "protein_seq = first_record.seq.translate()\n",
    "print(protein_seq)"
   ],
   "metadata": {
    "collapsed": false,
    "ExecuteTime": {
     "end_time": "2023-09-18T15:17:10.097640948Z",
     "start_time": "2023-09-18T15:17:09.833566729Z"
    }
   }
  },
  {
   "cell_type": "code",
   "execution_count": 5,
   "outputs": [],
   "source": [
    "amino_acid_dict = {\n",
    "    \"A\": \"Alanine\",\n",
    "    \"C\": \"Cysteine\",\n",
    "    \"D\": \"Aspartic Acid\",\n",
    "    \"E\": \"Glutamic Acid\",\n",
    "    \"F\": \"Phenylalanine\",\n",
    "    \"G\": \"Glycine\",\n",
    "    \"H\": \"Histidine\",\n",
    "    \"I\": \"Isoleucine\",\n",
    "    \"K\": \"Lysine\",\n",
    "    \"L\": \"Leucine\",\n",
    "    \"M\": \"Methionine\",\n",
    "    \"N\": \"Asparagine\",\n",
    "    \"P\": \"Proline\",\n",
    "    \"Q\": \"Glutamine\",\n",
    "    \"R\": \"Arginine\",\n",
    "    \"S\": \"Serine\",\n",
    "    \"T\": \"Threonine\",\n",
    "    \"U\": \"Selenocysteine\",\n",
    "    \"V\": \"Valine\",\n",
    "    \"W\": \"Tryptophan\",\n",
    "    \"Y\": \"Tyrosine\",\n",
    "    \"*\": \"Stop Codon\"\n",
    "}\n"
   ],
   "metadata": {
    "collapsed": false,
    "ExecuteTime": {
     "end_time": "2023-09-18T15:17:12.375269571Z",
     "start_time": "2023-09-18T15:17:12.347283052Z"
    }
   }
  },
  {
   "cell_type": "code",
   "execution_count": 6,
   "outputs": [
    {
     "name": "stdout",
     "output_type": "stream",
     "text": [
      "M Methionine\n",
      "S Serine\n",
      "K Lysine\n",
      "V Valine\n",
      "D Aspartic Acid\n",
      "Y Tyrosine\n",
      "F Phenylalanine\n",
      "E Glutamic Acid\n",
      "R Arginine\n",
      "K Lysine\n",
      "L Leucine\n",
      "D Aspartic Acid\n",
      "D Aspartic Acid\n",
      "K Lysine\n",
      "H Histidine\n",
      "R Arginine\n",
      "L Leucine\n",
      "T Threonine\n",
      "I Isoleucine\n",
      "P Proline\n",
      "V Valine\n",
      "E Glutamic Acid\n",
      "L Leucine\n",
      "R Arginine\n",
      "G Glycine\n",
      "E Glutamic Acid\n",
      "F Phenylalanine\n",
      "A Alanine\n",
      "N Asparagine\n",
      "G Glycine\n",
      "V Valine\n",
      "V Valine\n",
      "I Isoleucine\n",
      "T Threonine\n",
      "R Arginine\n",
      "G Glycine\n",
      "F Phenylalanine\n",
      "G Glycine\n",
      "K Lysine\n",
      "Y Tyrosine\n",
      "L Leucine\n",
      "H Histidine\n",
      "L Leucine\n",
      "Y Tyrosine\n",
      "A Alanine\n",
      "K Lysine\n",
      "E Glutamic Acid\n",
      "V Valine\n",
      "W Tryptophan\n",
      "D Aspartic Acid\n",
      "N Asparagine\n",
      "E Glutamic Acid\n",
      "M Methionine\n",
      "E Glutamic Acid\n",
      "S Serine\n",
      "A Alanine\n",
      "L Leucine\n",
      "Q Glutamine\n",
      "G Glycine\n",
      "N Asparagine\n",
      "I Isoleucine\n",
      "L Leucine\n",
      "D Aspartic Acid\n",
      "E Glutamic Acid\n",
      "H Histidine\n",
      "I Isoleucine\n",
      "A Alanine\n",
      "D Aspartic Acid\n",
      "L Leucine\n",
      "N Asparagine\n",
      "V Valine\n",
      "K Lysine\n",
      "F Phenylalanine\n",
      "R Arginine\n",
      "A Alanine\n",
      "G Glycine\n",
      "K Lysine\n",
      "S Serine\n",
      "E Glutamic Acid\n",
      "A Alanine\n",
      "E Glutamic Acid\n",
      "M Methionine\n",
      "D Aspartic Acid\n",
      "A Alanine\n",
      "K Lysine\n",
      "Q Glutamine\n",
      "G Glycine\n",
      "R Arginine\n",
      "I Isoleucine\n",
      "T Threonine\n",
      "I Isoleucine\n",
      "E Glutamic Acid\n",
      "Q Glutamine\n",
      "H Histidine\n",
      "L Leucine\n",
      "L Leucine\n",
      "D Aspartic Acid\n",
      "Y Tyrosine\n",
      "A Alanine\n",
      "K Lysine\n",
      "I Isoleucine\n",
      "D Aspartic Acid\n",
      "R Arginine\n",
      "D Aspartic Acid\n",
      "V Valine\n",
      "V Valine\n",
      "A Alanine\n",
      "I Isoleucine\n",
      "R Arginine\n",
      "A Alanine\n",
      "G Glycine\n",
      "K Lysine\n",
      "Y Tyrosine\n",
      "W Tryptophan\n",
      "R Arginine\n",
      "L Leucine\n",
      "T Threonine\n",
      "A Alanine\n",
      "Q Glutamine\n",
      "A Alanine\n",
      "D Aspartic Acid\n",
      "* Stop Codon\n"
     ]
    }
   ],
   "source": [
    "for amino_acid in protein_seq:\n",
    "    full_name = amino_acid_dict.get(amino_acid, \"Unknown Amino Acid\")\n",
    "    print(f\"{amino_acid} {full_name}\")"
   ],
   "metadata": {
    "collapsed": false,
    "ExecuteTime": {
     "end_time": "2023-09-18T15:17:15.032959551Z",
     "start_time": "2023-09-18T15:17:15.006744612Z"
    }
   }
  },
  {
   "cell_type": "code",
   "execution_count": 7,
   "outputs": [],
   "source": [
    "# Обратная комплементарность\n",
    "reverse_complement = first_record.reverse_complement()\n",
    "\n",
    "# Перевод в аминокислоты (для ДНК или РНК)\n",
    "protein = first_record.translate()"
   ],
   "metadata": {
    "collapsed": false,
    "ExecuteTime": {
     "end_time": "2023-09-18T15:17:17.249299405Z",
     "start_time": "2023-09-18T15:17:17.226826964Z"
    }
   }
  },
  {
   "cell_type": "code",
   "execution_count": 9,
   "outputs": [
    {
     "name": "stdout",
     "output_type": "stream",
     "text": [
      "ID: <unknown id>\n",
      "Name: <unknown name>\n",
      "Description: <unknown description>\n",
      "Number of features: 0\n",
      "Seq('TTAATCTGCTTGCGCAGTCAACCGCCAATACTTGCCCGCTCGGATGGCGACCAC...CAT')\n",
      "----------------------------------\n",
      "ID: <unknown id>\n",
      "Name: <unknown name>\n",
      "Description: <unknown description>\n",
      "Number of features: 0\n",
      "/molecule_type=protein\n",
      "Seq('MSKVDYFERKLDDKHRLTIPVELRGEFANGVVITRGFGKYLHLYAKEVWDNEME...AD*')\n"
     ]
    }
   ],
   "source": [
    "print(reverse_complement)\n",
    "print('----------------------------------')\n",
    "print(protein)"
   ],
   "metadata": {
    "collapsed": false,
    "ExecuteTime": {
     "end_time": "2023-09-18T15:17:45.409920931Z",
     "start_time": "2023-09-18T15:17:45.395988600Z"
    }
   }
  },
  {
   "cell_type": "code",
   "execution_count": 20,
   "outputs": [
    {
     "name": "stdout",
     "output_type": "stream",
     "text": [
      "Мотив найден в позиции 60\n"
     ]
    }
   ],
   "source": [
    "from Bio.Seq import Seq\n",
    "\n",
    "sequence = first_record.seq\n",
    "\n",
    "# Ищем мотив \"GTAC\"\n",
    "motif = Seq(\"GTA\")\n",
    "matches = sequence.find(motif)\n",
    "\n",
    "if matches != -1:\n",
    "    print(f\"Мотив найден в позиции {matches}\")\n",
    "else:\n",
    "    print(\"Мотив не найден\")"
   ],
   "metadata": {
    "collapsed": false,
    "ExecuteTime": {
     "end_time": "2023-09-18T15:24:54.985000832Z",
     "start_time": "2023-09-18T15:24:54.951115631Z"
    }
   }
  },
  {
   "cell_type": "code",
   "execution_count": 21,
   "outputs": [
    {
     "name": "stdout",
     "output_type": "stream",
     "text": [
      "GC-содержание: 50.27%\n"
     ]
    }
   ],
   "source": [
    "from Bio.SeqUtils import gc_fraction\n",
    "\n",
    "# Создаем объект с последовательностью\n",
    "sequence = first_record.seq\n",
    "\n",
    "# Рассчитываем GC-содержание\n",
    "gc_content = gc_fraction(sequence) * 100\n",
    "print(f\"GC-содержание: {gc_content:.2f}%\")"
   ],
   "metadata": {
    "collapsed": false,
    "ExecuteTime": {
     "end_time": "2023-09-18T15:25:33.834358601Z",
     "start_time": "2023-09-18T15:25:33.791982814Z"
    }
   }
  },
  {
   "cell_type": "code",
   "execution_count": 23,
   "outputs": [
    {
     "name": "stdout",
     "output_type": "stream",
     "text": [
      "Частоты нуклеотидов:\n",
      "A: 102\n",
      "C: 82\n",
      "G: 102\n",
      "T: 80\n"
     ]
    }
   ],
   "source": [
    "# Создаем объект с последовательностью\n",
    "sequence = first_record.seq\n",
    "\n",
    "# Рассчитываем частоты нуклеотидов\n",
    "nt_freq = {nt: sequence.count(nt) for nt in \"ACGT\"}\n",
    "\n",
    "print(\"Частоты нуклеотидов:\")\n",
    "for nt, freq in nt_freq.items():\n",
    "    print(f\"{nt}: {freq}\")"
   ],
   "metadata": {
    "collapsed": false,
    "ExecuteTime": {
     "end_time": "2023-09-18T15:30:55.962521651Z",
     "start_time": "2023-09-18T15:30:55.922261392Z"
    }
   }
  },
  {
   "cell_type": "code",
   "execution_count": 24,
   "outputs": [
    {
     "data": {
      "text/plain": "366"
     },
     "execution_count": 24,
     "metadata": {},
     "output_type": "execute_result"
    }
   ],
   "source": [
    "len(first_record)"
   ],
   "metadata": {
    "collapsed": false,
    "ExecuteTime": {
     "end_time": "2023-09-18T15:31:50.233781893Z",
     "start_time": "2023-09-18T15:31:50.164333916Z"
    }
   }
  },
  {
   "cell_type": "code",
   "execution_count": 29,
   "outputs": [
    {
     "ename": "ApplicationError",
     "evalue": "Non-zero return code 127 from 'clustalw2 -infile=temp.fasta', message '/bin/sh: line 1: clustalw2: command not found'",
     "output_type": "error",
     "traceback": [
      "\u001B[0;31m---------------------------------------------------------------------------\u001B[0m",
      "\u001B[0;31mApplicationError\u001B[0m                          Traceback (most recent call last)",
      "Cell \u001B[0;32mIn[29], line 13\u001B[0m\n\u001B[1;32m     11\u001B[0m \u001B[38;5;66;03m# Запуск ClustalW для выполнения множественного выравнивания\u001B[39;00m\n\u001B[1;32m     12\u001B[0m clustalw_cline \u001B[38;5;241m=\u001B[39m ClustalwCommandline(\u001B[38;5;124m\"\u001B[39m\u001B[38;5;124mclustalw2\u001B[39m\u001B[38;5;124m\"\u001B[39m, infile\u001B[38;5;241m=\u001B[39mtemp_file)\n\u001B[0;32m---> 13\u001B[0m \u001B[43mclustalw_cline\u001B[49m\u001B[43m(\u001B[49m\u001B[43m)\u001B[49m\n\u001B[1;32m     15\u001B[0m \u001B[38;5;66;03m# Чтение результата множественного выравнивания\u001B[39;00m\n\u001B[1;32m     16\u001B[0m alignment \u001B[38;5;241m=\u001B[39m SeqIO\u001B[38;5;241m.\u001B[39mread(\u001B[38;5;124m\"\u001B[39m\u001B[38;5;124mtemp.aln\u001B[39m\u001B[38;5;124m\"\u001B[39m, \u001B[38;5;124m\"\u001B[39m\u001B[38;5;124mclustal\u001B[39m\u001B[38;5;124m\"\u001B[39m)\n",
      "File \u001B[0;32m/usr/local/lib64/python3.11/site-packages/Bio/Application/__init__.py:574\u001B[0m, in \u001B[0;36mAbstractCommandline.__call__\u001B[0;34m(self, stdin, stdout, stderr, cwd, env)\u001B[0m\n\u001B[1;32m    571\u001B[0m     stderr_arg\u001B[38;5;241m.\u001B[39mclose()\n\u001B[1;32m    573\u001B[0m \u001B[38;5;28;01mif\u001B[39;00m return_code:\n\u001B[0;32m--> 574\u001B[0m     \u001B[38;5;28;01mraise\u001B[39;00m ApplicationError(return_code, \u001B[38;5;28mstr\u001B[39m(\u001B[38;5;28mself\u001B[39m), stdout_str, stderr_str)\n\u001B[1;32m    575\u001B[0m \u001B[38;5;28;01mreturn\u001B[39;00m stdout_str, stderr_str\n",
      "\u001B[0;31mApplicationError\u001B[0m: Non-zero return code 127 from 'clustalw2 -infile=temp.fasta', message '/bin/sh: line 1: clustalw2: command not found'"
     ]
    }
   ],
   "source": [
    "from Bio import SeqIO\n",
    "from Bio.Align.Applications import ClustalwCommandline\n",
    "\n",
    "# Чтение последовательностей из файла FASTA\n",
    "sequences = list(SeqIO.parse(\"pan-genome.fna\", \"fasta\"))\n",
    "\n",
    "# Создание временного файла для хранения последовательностей\n",
    "temp_file = \"temp.fasta\"\n",
    "SeqIO.write(sequences, temp_file, \"fasta\")\n",
    "\n",
    "# Запуск ClustalW для выполнения множественного выравнивания\n",
    "clustalw_cline = ClustalwCommandline(\"clustalw2\", infile=temp_file)\n",
    "clustalw_cline()\n",
    "\n",
    "# Чтение результата множественного выравнивания\n",
    "alignment = SeqIO.read(\"temp.aln\", \"clustal\")\n",
    "\n",
    "# Вывод результата\n",
    "print(alignment)"
   ],
   "metadata": {
    "collapsed": false,
    "ExecuteTime": {
     "end_time": "2023-09-18T17:53:43.961646511Z",
     "start_time": "2023-09-18T17:53:43.875030631Z"
    }
   }
  },
  {
   "cell_type": "code",
   "execution_count": 20,
   "outputs": [
    {
     "name": "stdout",
     "output_type": "stream",
     "text": [
      "Количество элементов с чётной позицией равно 1\n",
      "Элементы массива с чётной позицией:  6 8 10 12 14 16 18 20 22 24 26 28 30 32 34 36 38 40 42 44 46 48 50 52 54 56 58 60 62 64 66 68 70 72 74 76 78 80 82 84 86 88 90 92 94 96\n"
     ]
    }
   ],
   "source": [
    "x = [i for i in range(6, 97)]\n",
    "r = 0\n",
    "for _ in range(len(x)):\n",
    "    if _ % 2 == 0:\n",
    "        r += 1\n",
    "print(f\"Количество элементов с чётной позицией равно {r}\")\n",
    "print(\"Элементы массива с чётной позицией: \", *x[::2])"
   ],
   "metadata": {
    "collapsed": false,
    "ExecuteTime": {
     "end_time": "2023-10-09T21:06:54.525967438Z",
     "start_time": "2023-10-09T21:06:54.507352790Z"
    }
   }
  },
  {
   "cell_type": "code",
   "execution_count": 8,
   "outputs": [
    {
     "name": "stdout",
     "output_type": "stream",
     "text": [
      "Итерация 1: x = 0.6666666666666666, f(x) = 0.5185185185185186\n",
      "Итерация 2: x = 0.7804878048780488, f(x) = 0.03879804413749066\n",
      "Итерация 3: x = 0.788686360779384, f(x) = 0.0024788580884114175\n",
      "Итерация 4: x = 0.789208882047087, f(x) = 0.00015663465982318492\n",
      "Итерация 5: x = 0.7892418940713141, f(x) = 9.89050221766874e-06\n",
      "Успешно достигнута точность 0.0001 за 5 итераций.\n",
      "Приближенный корень: 0.7892418940713141\n"
     ]
    }
   ],
   "source": [
    "def f(x):\n",
    "    return x**3 - 4 * x**2 + 2\n",
    "\n",
    "def chord_method(a, b, epsilon=1e-4, max_iterations=1000):\n",
    "    if f(a) * f(b) >= 0:\n",
    "        raise ValueError(\"Метод хорд требует, чтобы f(a) и f(b) имели разные знаки в начальной точке.\")\n",
    "\n",
    "    for i in range(max_iterations):\n",
    "        c = a - f(a) * (b - a) / (f(b) - f(a))\n",
    "\n",
    "        print(f'Итерация {i+1}: x = {c}, f(x) = {f(c)}')\n",
    "\n",
    "        if abs(f(c)) < epsilon:\n",
    "            print(f\"Успешно достигнута точность {epsilon} за {i+1} итераций.\")\n",
    "            return c\n",
    "\n",
    "        if f(c) * f(a) < 0:\n",
    "            b = c\n",
    "        else:\n",
    "            a = c\n",
    "\n",
    "    raise ValueError(f\"Не удалось достичь точности {epsilon} за {max_iterations} итераций.\")\n",
    "\n",
    "# Запросим интервал от пользователя\n",
    "a = float(input(\"Введите начало интервала: \"))\n",
    "b = float(input(\"Введите конец интервала: \"))\n",
    "\n",
    "# Вызовем метод хорд\n",
    "result = chord_method(a, b)\n",
    "\n",
    "print(f\"Приближенный корень: {result}\")"
   ],
   "metadata": {
    "collapsed": false,
    "ExecuteTime": {
     "end_time": "2023-10-09T20:46:39.872304882Z",
     "start_time": "2023-10-09T20:46:28.054101171Z"
    }
   }
  },
  {
   "cell_type": "code",
   "execution_count": 10,
   "outputs": [
    {
     "data": {
      "text/plain": "<Figure size 640x480 with 1 Axes>",
      "image/png": "[encoded data removed]"
     },
     "metadata": {},
     "output_type": "display_data"
    }
   ],
   "source": [
    "import matplotlib.pyplot as plt\n",
    "import numpy as np\n",
    "\n",
    "def f(x):\n",
    "    return x**3 - 4 * x**2 + 2\n",
    "\n",
    "x = np.linspace(-2, 5, 100)\n",
    "y = f(x)\n",
    "\n",
    "plt.plot(x, y)\n",
    "plt.xlabel('x')\n",
    "plt.ylabel('f(x)')\n",
    "plt.title('График функции f(x) = x^3 - 4x^2 + 2')\n",
    "plt.grid(True)\n",
    "plt.axhline(0, color='black',linewidth=0.5)\n",
    "plt.axvline(0, color='black',linewidth=0.5)\n",
    "plt.show()"
   ],
   "metadata": {
    "collapsed": false,
    "ExecuteTime": {
     "end_time": "2023-10-09T20:54:35.835756456Z",
     "start_time": "2023-10-09T20:54:33.827438919Z"
    }
   }
  },
  {
   "cell_type": "code",
   "execution_count": 13,
   "outputs": [
    {
     "name": "stdout",
     "output_type": "stream",
     "text": [
      "Итерация 1: x = -0.6666666666666667, f(x) = -0.0740740740740744\n",
      "Итерация 2: x = -0.6527777777777778, f(x) = 0.01736379029492463\n",
      "Итерация 3: x = -0.6561201671761993, f(x) = -0.004430276307056058\n",
      "Итерация 4: x = -0.6552727867026839, f(x) = 0.0011076818412103506\n",
      "Итерация 5: x = -0.6554849950703538, f(x) = -0.00027837740151248624\n",
      "Итерация 6: x = -0.655431685385445, f(x) = 6.987044104822537e-05\n",
      "Успешно достигнута точность 0.0001 за 6 итераций.\n",
      "Приближенный корень: -0.655431685385445\n"
     ]
    }
   ],
   "source": [
    "def f(x):\n",
    "    return x**3 - 4 * x**2 + 2\n",
    "\n",
    "def df(x):\n",
    "    return 3*x**2 - 6*x\n",
    "\n",
    "def newton_method(x0, epsilon=1e-4, max_iterations=1000):\n",
    "    for i in range(max_iterations):\n",
    "        x1 = x0 - f(x0) / df(x0)\n",
    "\n",
    "        print(f'Итерация {i+1}: x = {x1}, f(x) = {f(x1)}')\n",
    "\n",
    "        if abs(x1 - x0) < epsilon:\n",
    "            print(f\"Успешно достигнута точность {epsilon} за {i+1} итераций.\")\n",
    "            return x1\n",
    "\n",
    "        x0 = x1\n",
    "\n",
    "    raise ValueError(f\"Не удалось достичь точности {epsilon} за {max_iterations} итераций.\")\n",
    "\n",
    "# Запросим начальное значение от пользователя\n",
    "x0 = float(input(\"Введите начальное значение x0: \"))\n",
    "\n",
    "# Вызовем метод Ньютона\n",
    "result = newton_method(x0)\n",
    "\n",
    "print(f\"Приближенный корень: {result}\")\n"
   ],
   "metadata": {
    "collapsed": false,
    "ExecuteTime": {
     "end_time": "2023-10-09T20:56:29.239282939Z",
     "start_time": "2023-10-09T20:56:24.605249332Z"
    }
   }
  },
  {
   "cell_type": "code",
   "execution_count": null,
   "outputs": [],
   "source": [],
   "metadata": {
    "collapsed": false
   }
  },
  {
   "cell_type": "code",
   "execution_count": 1,
   "outputs": [
    {
     "name": "stdout",
     "output_type": "stream",
     "text": [
      "304888344611713860501504000000\n",
      "175615686496347183648866304000000\n"
     ]
    }
   ],
   "source": [
    "\n",
    "\n",
    "def fac(n):\n",
    "    if n == 1:\n",
    "        return 1\n",
    "    return fac(n - 1) * n\n",
    "\n",
    "\n",
    "print(fac(28))\n",
    "print(fac(28) * 24 * 24)\n",
    "\n"
   ],
   "metadata": {
    "collapsed": false,
    "ExecuteTime": {
     "end_time": "2023-11-07T08:39:04.569749971Z",
     "start_time": "2023-11-07T08:39:04.532070574Z"
    }
   }
  }
 ],
 "metadata": {
  "kernelspec": {
   "display_name": "Python 3",
   "language": "python",
   "name": "python3"
  },
  "language_info": {
   "codemirror_mode": {
    "name": "ipython",
    "version": 2
   },
   "file_extension": ".py",
   "mimetype": "text/x-python",
   "name": "python",
   "nbconvert_exporter": "python",
   "pygments_lexer": "ipython2",
   "version": "2.7.6"
  }
 },
 "nbformat": 4,
 "nbformat_minor": 0
}
