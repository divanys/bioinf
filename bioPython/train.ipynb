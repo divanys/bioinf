{
 "cells": [
  {
   "cell_type": "code",
   "execution_count": 4,
   "metadata": {
    "collapsed": true,
    "ExecuteTime": {
     "end_time": "2023-09-17T12:53:02.694778421Z",
     "start_time": "2023-09-17T12:53:02.620449862Z"
    }
   },
   "outputs": [
    {
     "name": "stdout",
     "output_type": "stream",
     "text": [
      "        Gene Non-unique Gene name            Annotation        MGYG000304142  \\\n",
      "0  group_419                  NaN  hypothetical protein  MGYG000304142_00583   \n",
      "1  group_418                  NaN  hypothetical protein  MGYG000304142_00581   \n",
      "2  group_417                  NaN  hypothetical protein  MGYG000304142_00667   \n",
      "3  group_416                  NaN  hypothetical protein  MGYG000304142_00653   \n",
      "4  group_415                  NaN  hypothetical protein  MGYG000304142_00580   \n",
      "\n",
      "         MGYG000303700  \n",
      "0  MGYG000303700_00027  \n",
      "1  MGYG000303700_00542  \n",
      "2  MGYG000303700_00620  \n",
      "3  MGYG000303700_00015  \n",
      "4  MGYG000303700_00541  \n"
     ]
    }
   ],
   "source": [
    "import pandas as pd\n",
    "\n",
    "# Замените 'path_to_your_csv_file.csv' на путь к вашему CSV-файлу\n",
    "df = pd.read_csv('gene_presence_absence.csv')\n",
    "\n",
    "# Выведите первые несколько строк, чтобы убедиться, что данные загрузились правильно\n",
    "print(df.head())"
   ]
  },
  {
   "cell_type": "code",
   "execution_count": 11,
   "outputs": [
    {
     "name": "stdout",
     "output_type": "stream",
     "text": [
      "Идентификатор: mraZ\n",
      "Описание: mraZ\n",
      "Длина: 366\n",
      "Последовательность: ATGAGCAAAGTTGATTACTTCGAACGCAAGCTAGACGACAAACATCGTCTGACCATCCCAGTAGAATTACGGGGTGAATTTGCGAACGGTGTAGTCATCACCCGCGGCTTTGGTAAGTACTTGCATCTCTATGCGAAGGAGGTTTGGGATAATGAAATGGAATCTGCATTGCAGGGCAACATCTTGGATGAACACATCGCCGACCTAAACGTCAAGTTTCGGGCTGGCAAGTCAGAGGCTGAGATGGACGCCAAGCAGGGGCGGATTACCATTGAACAACACCTACTTGATTACGCCAAGATTGACCGCGACGTGGTCGCCATCCGAGCGGGCAAGTATTGGCGGTTGACTGCGCAAGCAGATTAA\n",
      "MSKVDYFERKLDDKHRLTIPVELRGEFANGVVITRGFGKYLHLYAKEVWDNEMESALQGNILDEHIADLNVKFRAGKSEAEMDAKQGRITIEQHLLDYAKIDRDVVAIRAGKYWRLTAQAD*\n"
     ]
    }
   ],
   "source": [
    "from Bio import SeqIO\n",
    "\n",
    "file_path = 'pan-genome.fna'\n",
    "\n",
    "# создание объекта SeqRecord\n",
    "records = SeqIO.parse(file_path, 'fasta')\n",
    "\n",
    "# выведите первую последовательность\n",
    "first_record = next(records)\n",
    "print(f'Идентификатор: {first_record.id}')\n",
    "print(f'Описание: {first_record.description}')\n",
    "print(f'Длина: {len(first_record.seq)}')\n",
    "print(f'Последовательность: {first_record.seq}')\n",
    "protein_seq = first_record.seq.translate()\n",
    "print(protein_seq)"
   ],
   "metadata": {
    "collapsed": false,
    "ExecuteTime": {
     "end_time": "2023-09-17T13:03:52.080839241Z",
     "start_time": "2023-09-17T13:03:51.994670095Z"
    }
   }
  },
  {
   "cell_type": "code",
   "execution_count": 13,
   "outputs": [],
   "source": [
    "amino_acid_dict = {\n",
    "    \"A\": \"Alanine\",\n",
    "    \"C\": \"Cysteine\",\n",
    "    \"D\": \"Aspartic Acid\",\n",
    "    \"E\": \"Glutamic Acid\",\n",
    "    \"F\": \"Phenylalanine\",\n",
    "    \"G\": \"Glycine\",\n",
    "    \"H\": \"Histidine\",\n",
    "    \"I\": \"Isoleucine\",\n",
    "    \"K\": \"Lysine\",\n",
    "    \"L\": \"Leucine\",\n",
    "    \"M\": \"Methionine\",\n",
    "    \"N\": \"Asparagine\",\n",
    "    \"P\": \"Proline\",\n",
    "    \"Q\": \"Glutamine\",\n",
    "    \"R\": \"Arginine\",\n",
    "    \"S\": \"Serine\",\n",
    "    \"T\": \"Threonine\",\n",
    "    \"U\": \"Selenocysteine\",\n",
    "    \"V\": \"Valine\",\n",
    "    \"W\": \"Tryptophan\",\n",
    "    \"Y\": \"Tyrosine\",\n",
    "    \"*\": \"Stop Codon\"\n",
    "}\n"
   ],
   "metadata": {
    "collapsed": false,
    "ExecuteTime": {
     "end_time": "2023-09-17T14:19:52.193669084Z",
     "start_time": "2023-09-17T14:19:52.161721293Z"
    }
   }
  },
  {
   "cell_type": "code",
   "execution_count": 19,
   "outputs": [
    {
     "name": "stdout",
     "output_type": "stream",
     "text": [
      "M Methionine\n",
      "S Serine\n",
      "K Lysine\n",
      "V Valine\n",
      "D Aspartic Acid\n",
      "Y Tyrosine\n",
      "F Phenylalanine\n",
      "E Glutamic Acid\n",
      "R Arginine\n",
      "K Lysine\n",
      "L Leucine\n",
      "D Aspartic Acid\n",
      "D Aspartic Acid\n",
      "K Lysine\n",
      "H Histidine\n",
      "R Arginine\n",
      "L Leucine\n",
      "T Threonine\n",
      "I Isoleucine\n",
      "P Proline\n",
      "V Valine\n",
      "E Glutamic Acid\n",
      "L Leucine\n",
      "R Arginine\n",
      "G Glycine\n",
      "E Glutamic Acid\n",
      "F Phenylalanine\n",
      "A Alanine\n",
      "N Asparagine\n",
      "G Glycine\n",
      "V Valine\n",
      "V Valine\n",
      "I Isoleucine\n",
      "T Threonine\n",
      "R Arginine\n",
      "G Glycine\n",
      "F Phenylalanine\n",
      "G Glycine\n",
      "K Lysine\n",
      "Y Tyrosine\n",
      "L Leucine\n",
      "H Histidine\n",
      "L Leucine\n",
      "Y Tyrosine\n",
      "A Alanine\n",
      "K Lysine\n",
      "E Glutamic Acid\n",
      "V Valine\n",
      "W Tryptophan\n",
      "D Aspartic Acid\n",
      "N Asparagine\n",
      "E Glutamic Acid\n",
      "M Methionine\n",
      "E Glutamic Acid\n",
      "S Serine\n",
      "A Alanine\n",
      "L Leucine\n",
      "Q Glutamine\n",
      "G Glycine\n",
      "N Asparagine\n",
      "I Isoleucine\n",
      "L Leucine\n",
      "D Aspartic Acid\n",
      "E Glutamic Acid\n",
      "H Histidine\n",
      "I Isoleucine\n",
      "A Alanine\n",
      "D Aspartic Acid\n",
      "L Leucine\n",
      "N Asparagine\n",
      "V Valine\n",
      "K Lysine\n",
      "F Phenylalanine\n",
      "R Arginine\n",
      "A Alanine\n",
      "G Glycine\n",
      "K Lysine\n",
      "S Serine\n",
      "E Glutamic Acid\n",
      "A Alanine\n",
      "E Glutamic Acid\n",
      "M Methionine\n",
      "D Aspartic Acid\n",
      "A Alanine\n",
      "K Lysine\n",
      "Q Glutamine\n",
      "G Glycine\n",
      "R Arginine\n",
      "I Isoleucine\n",
      "T Threonine\n",
      "I Isoleucine\n",
      "E Glutamic Acid\n",
      "Q Glutamine\n",
      "H Histidine\n",
      "L Leucine\n",
      "L Leucine\n",
      "D Aspartic Acid\n",
      "Y Tyrosine\n",
      "A Alanine\n",
      "K Lysine\n",
      "I Isoleucine\n",
      "D Aspartic Acid\n",
      "R Arginine\n",
      "D Aspartic Acid\n",
      "V Valine\n",
      "V Valine\n",
      "A Alanine\n",
      "I Isoleucine\n",
      "R Arginine\n",
      "A Alanine\n",
      "G Glycine\n",
      "K Lysine\n",
      "Y Tyrosine\n",
      "W Tryptophan\n",
      "R Arginine\n",
      "L Leucine\n",
      "T Threonine\n",
      "A Alanine\n",
      "Q Glutamine\n",
      "A Alanine\n",
      "D Aspartic Acid\n",
      "* Stop Codon\n"
     ]
    }
   ],
   "source": [
    "for amino_acid in protein_seq:\n",
    "    full_name = amino_acid_dict.get(amino_acid, \"Unknown Amino Acid\")\n",
    "    print(f\"{amino_acid} {full_name}\")"
   ],
   "metadata": {
    "collapsed": false,
    "ExecuteTime": {
     "end_time": "2023-09-17T14:23:41.433277437Z",
     "start_time": "2023-09-17T14:23:41.379948507Z"
    }
   }
  },
  {
   "cell_type": "code",
   "execution_count": null,
   "outputs": [],
   "source": [],
   "metadata": {
    "collapsed": false
   }
  }
 ],
 "metadata": {
  "kernelspec": {
   "display_name": "Python 3",
   "language": "python",
   "name": "python3"
  },
  "language_info": {
   "codemirror_mode": {
    "name": "ipython",
    "version": 2
   },
   "file_extension": ".py",
   "mimetype": "text/x-python",
   "name": "python",
   "nbconvert_exporter": "python",
   "pygments_lexer": "ipython2",
   "version": "2.7.6"
  }
 },
 "nbformat": 4,
 "nbformat_minor": 0
}
