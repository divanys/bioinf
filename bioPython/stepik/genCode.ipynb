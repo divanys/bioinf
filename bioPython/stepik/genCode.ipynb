{
 "cells": [
  {
   "cell_type": "code",
   "execution_count": 28,
   "metadata": {
    "collapsed": true,
    "ExecuteTime": {
     "end_time": "2023-12-20T11:34:26.606566021Z",
     "start_time": "2023-12-20T11:34:26.564151443Z"
    }
   },
   "outputs": [
    {
     "name": "stdout",
     "output_type": "stream",
     "text": [
      "23\n",
      "['TAA', 'TGA', 'TAG', 'TAA', 'TGA', 'TAG', 'TAA', 'TAG', 'TAA', 'TAG', 'TGA', 'TGA', 'TAG', 'TGA', 'TAA', 'TAG', 'TGA', 'TAA', 'TAG', 'TGA', 'TAA', 'TAG', 'TGA']\n"
     ]
    }
   ],
   "source": [
    "from Bio.Data import CodonTable\n",
    "from Bio.Seq import Seq\n",
    "\n",
    "standard_table = CodonTable.unambiguous_dna_by_id[1]\n",
    "seq1 = Seq(\"ACGT\")\n",
    "stop_cods = standard_table.stop_codons\n",
    "\n",
    "lst_result = [\n",
    "    mutated_codon\n",
    "    for codon in standard_table.forward_table.keys()\n",
    "    for j in range(len(codon))\n",
    "    for o in range(len(seq1))\n",
    "    if seq1[o] != codon[j]\n",
    "    if (mutated_codon := codon[:j] + seq1[o] + codon[j+1:]) in stop_cods\n",
    "]\n",
    "\n",
    "result_count = len(lst_result)\n",
    "print(result_count)  # 23\n",
    "print(lst_result)\n"
   ]
  },
  {
   "cell_type": "code",
   "execution_count": 30,
   "outputs": [
    {
     "data": {
      "text/plain": "SeqRecord(seq=Seq('TGTAACGAACGGTGCAATAGTGATCCACACCCAACGCCTGAAATCAGATCCAGG...CTG'), id='gi|45478711|ref|NC_005816.1|', name='gi|45478711|ref|NC_005816.1|', description='gi|45478711|ref|NC_005816.1| Yersinia pestis biovar Microtus str. 91001 plasmid pPCP1, complete sequence', dbxrefs=[])"
     },
     "execution_count": 30,
     "metadata": {},
     "output_type": "execute_result"
    }
   ],
   "source": [
    "from Bio import SeqIO\n",
    "record = SeqIO.read(\"genBank/NC_005816.fna\", \"fasta\")\n",
    "record"
   ],
   "metadata": {
    "collapsed": false,
    "ExecuteTime": {
     "end_time": "2023-12-20T12:02:23.022957976Z",
     "start_time": "2023-12-20T12:02:22.934878418Z"
    }
   }
  },
  {
   "cell_type": "code",
   "execution_count": 32,
   "outputs": [
    {
     "data": {
      "text/plain": "SeqRecord(seq=Seq('TGTAACGAACGGTGCAATAGTGATCCACACCCAACGCCTGAAATCAGATCCAGG...CTG'), id='NC_005816.1', name='NC_005816', description='Yersinia pestis biovar Microtus str. 91001 plasmid pPCP1, complete sequence', dbxrefs=['Project:58037'])"
     },
     "execution_count": 32,
     "metadata": {},
     "output_type": "execute_result"
    }
   ],
   "source": [
    "from Bio import SeqIO\n",
    "record = SeqIO.read(\"genBank/NC_005816.gb\", \"genbank\")\n",
    "record"
   ],
   "metadata": {
    "collapsed": false,
    "ExecuteTime": {
     "end_time": "2023-12-20T12:16:10.690101818Z",
     "start_time": "2023-12-20T12:16:10.677495806Z"
    }
   }
  }
 ],
 "metadata": {
  "kernelspec": {
   "display_name": "Python 3",
   "language": "python",
   "name": "python3"
  },
  "language_info": {
   "codemirror_mode": {
    "name": "ipython",
    "version": 2
   },
   "file_extension": ".py",
   "mimetype": "text/x-python",
   "name": "python",
   "nbconvert_exporter": "python",
   "pygments_lexer": "ipython2",
   "version": "2.7.6"
  }
 },
 "nbformat": 4,
 "nbformat_minor": 0
}
