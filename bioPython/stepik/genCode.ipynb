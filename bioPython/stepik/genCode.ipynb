{
 "cells": [
  {
   "cell_type": "code",
   "execution_count": 17,
   "metadata": {
    "collapsed": true,
    "ExecuteTime": {
     "end_time": "2023-12-19T15:23:46.696023350Z",
     "start_time": "2023-12-19T15:23:46.637889319Z"
    }
   },
   "outputs": [
    {
     "data": {
      "text/plain": "['TTT',\n 'TTC',\n 'TTA',\n 'TTG',\n 'TCT',\n 'TCC',\n 'TCA',\n 'TCG',\n 'TAT',\n 'TAC',\n 'TGT',\n 'TGC',\n 'TGG',\n 'CTT',\n 'CTC',\n 'CTA',\n 'CTG',\n 'CCT',\n 'CCC',\n 'CCA',\n 'CCG',\n 'CAT',\n 'CAC',\n 'CAA',\n 'CAG',\n 'CGT',\n 'CGC',\n 'CGA',\n 'CGG',\n 'ATT',\n 'ATC',\n 'ATA',\n 'ATG',\n 'ACT',\n 'ACC',\n 'ACA',\n 'ACG',\n 'AAT',\n 'AAC',\n 'AAA',\n 'AAG',\n 'AGT',\n 'AGC',\n 'AGA',\n 'AGG',\n 'GTT',\n 'GTC',\n 'GTA',\n 'GTG',\n 'GCT',\n 'GCC',\n 'GCA',\n 'GCG',\n 'GAT',\n 'GAC',\n 'GAA',\n 'GAG',\n 'GGT',\n 'GGC',\n 'GGA',\n 'GGG']"
     },
     "execution_count": 17,
     "metadata": {},
     "output_type": "execute_result"
    }
   ],
   "source": [
    "from Bio.Data import CodonTable\n",
    "from Bio.Seq import Seq\n",
    "\n",
    "\n",
    "standard_table = CodonTable.unambiguous_dna_by_id[1]\n",
    "seq1 = Seq(\"ACGT\")\n",
    "stop_cods = standard_table.stop_codons\n",
    "all_codons = list(standard_table.forward_table.keys())\n",
    "\n",
    "\n"
   ]
  },
  {
   "cell_type": "code",
   "execution_count": 12,
   "outputs": [
    {
     "name": "stdout",
     "output_type": "stream",
     "text": [
      "Total number of non-synonymous substitutions leading to stop codons: 415\n"
     ]
    }
   ],
   "source": [
    "from Bio.Seq import Seq\n",
    "from itertools import product\n",
    "\n",
    "def count_nonsynonymous_substitutions(codon):\n",
    "    substitutions = 0\n",
    "    for i in range(3):\n",
    "        for base in ['A', 'C', 'G', 'T']:\n",
    "            if base != codon[i]:\n",
    "                mutated_codon = list(codon)\n",
    "                mutated_codon[i] = base\n",
    "                mutated_codon = ''.join(mutated_codon)\n",
    "                if Seq(mutated_codon).translate() != Seq(codon).translate():\n",
    "                    substitutions += 1\n",
    "    return substitutions\n",
    "\n",
    "def count_stop_codon_substitutions():\n",
    "    stop_codons = {'TAA', 'TAG', 'TGA'}\n",
    "    total_substitutions = 0\n",
    "\n",
    "    for codon in product('ACGT', repeat=3):\n",
    "        codon = ''.join(codon)\n",
    "        if codon not in stop_codons:\n",
    "            total_substitutions += count_nonsynonymous_substitutions(codon)\n",
    "\n",
    "    return total_substitutions\n",
    "\n",
    "result = count_stop_codon_substitutions()\n",
    "print(f\"Total number of non-synonymous substitutions leading to stop codons: {result}\")\n"
   ],
   "metadata": {
    "collapsed": false,
    "ExecuteTime": {
     "end_time": "2023-12-19T14:44:11.395040897Z",
     "start_time": "2023-12-19T14:44:11.313099524Z"
    }
   }
  }
 ],
 "metadata": {
  "kernelspec": {
   "display_name": "Python 3",
   "language": "python",
   "name": "python3"
  },
  "language_info": {
   "codemirror_mode": {
    "name": "ipython",
    "version": 2
   },
   "file_extension": ".py",
   "mimetype": "text/x-python",
   "name": "python",
   "nbconvert_exporter": "python",
   "pygments_lexer": "ipython2",
   "version": "2.7.6"
  }
 },
 "nbformat": 4,
 "nbformat_minor": 0
}
